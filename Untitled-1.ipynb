{
 "cells": [
  {
   "cell_type": "code",
   "execution_count": 1,
   "metadata": {},
   "outputs": [
    {
     "name": "stdout",
     "output_type": "stream",
     "text": [
      "<class 'pandas.core.frame.DataFrame'>\n",
      "RangeIndex: 5572 entries, 0 to 5571\n",
      "Data columns (total 2 columns):\n",
      " #   Column   Non-Null Count  Dtype \n",
      "---  ------   --------------  ----- \n",
      " 0   Label    5572 non-null   object\n",
      " 1   Message  5572 non-null   object\n",
      "dtypes: object(2)\n",
      "memory usage: 87.2+ KB\n"
     ]
    },
    {
     "data": {
      "text/plain": [
       "(  Label                                            Message\n",
       " 0   ham  Go until jurong point, crazy.. Available only ...\n",
       " 1   ham                      Ok lar... Joking wif u oni...\n",
       " 2  spam  Free entry in 2 a wkly comp to win FA Cup fina...\n",
       " 3   ham  U dun say so early hor... U c already then say...\n",
       " 4   ham  Nah I don't think he goes to usf, he lives aro...,\n",
       " None,\n",
       " Label\n",
       " ham     4825\n",
       " spam     747\n",
       " Name: count, dtype: int64)"
      ]
     },
     "execution_count": 1,
     "metadata": {},
     "output_type": "execute_result"
    }
   ],
   "source": [
    "import pandas as pd\n",
    "# Загружаем данные из файла\n",
    "file_path = 'SMSSpamCollection.csv'\n",
    "data = pd.read_csv(file_path, sep='\\t', header=None, names=['Label', 'Message'])\n",
    "\n",
    "# Просмотр первых строк набора данных\n",
    "data.head(), data.info(), data['Label'].value_counts()\n"
   ]
  },
  {
   "cell_type": "code",
   "execution_count": 8,
   "metadata": {},
   "outputs": [
    {
     "data": {
      "text/plain": [
       "((4457, 7403), (1115, 7403))"
      ]
     },
     "execution_count": 8,
     "metadata": {},
     "output_type": "execute_result"
    }
   ],
   "source": [
    "from sklearn.model_selection import train_test_split\n",
    "from sklearn.feature_extraction.text import CountVectorizer\n",
    "from sklearn.preprocessing import LabelEncoder\n",
    "\n",
    "# Преобразование меток классов в числовой вид (ham -> 0, spam -> 1)\n",
    "label_encoder = LabelEncoder()\n",
    "data['Label'] = label_encoder.fit_transform(data['Label'])\n",
    "\n",
    "# Разделение на признаки и целевую переменную\n",
    "X = data['Message']\n",
    "y = data['Label']\n",
    "\n",
    "# Разделение данных на обучающую и тестовую выборки (80/20)\n",
    "X_train, X_test, y_train, y_test = train_test_split(X, y, test_size=0.2, random_state=42, stratify=y)\n",
    "\n",
    "# Преобразование текстов в числовые представления с помощью CountVectorizer\n",
    "vectorizer = CountVectorizer(stop_words='english')\n",
    "X_train_vec = vectorizer.fit_transform(X_train)\n",
    "X_test_vec = vectorizer.transform(X_test)\n",
    "\n",
    "X_train_vec.shape, X_test_vec.shape\n"
   ]
  },
  {
   "cell_type": "code",
   "execution_count": 10,
   "metadata": {},
   "outputs": [
    {
     "data": {
      "text/plain": [
       "(0.9757847533632287,\n",
       " '              precision    recall  f1-score   support\\n\\n         ham       0.97      1.00      0.99       966\\n        spam       0.99      0.83      0.90       149\\n\\n    accuracy                           0.98      1115\\n   macro avg       0.98      0.91      0.94      1115\\nweighted avg       0.98      0.98      0.97      1115\\n')"
      ]
     },
     "execution_count": 10,
     "metadata": {},
     "output_type": "execute_result"
    }
   ],
   "source": [
    "from sklearn.linear_model import LogisticRegression\n",
    "from sklearn.metrics import classification_report, accuracy_score\n",
    "\n",
    "# Инициализация и обучение модели\n",
    "model = LogisticRegression(max_iter=1000, random_state=42)\n",
    "model.fit(X_train_vec, y_train)\n",
    "\n",
    "# Предсказания на тестовых данных\n",
    "y_pred = model.predict(X_test_vec)\n",
    "\n",
    "# Оценка  качества модели \n",
    "accuracy = accuracy_score(y_test, y_pred)\n",
    "report = classification_report(y_test, y_pred, target_names=label_encoder.classes_)\n",
    "\n",
    "accuracy, report\n"
   ]
  }
 ],
 "metadata": {
  "kernelspec": {
   "display_name": "Python 3",
   "language": "python",
   "name": "python3"
  },
  "language_info": {
   "codemirror_mode": {
    "name": "ipython",
    "version": 3
   },
   "file_extension": ".py",
   "mimetype": "text/x-python",
   "name": "python",
   "nbconvert_exporter": "python",
   "pygments_lexer": "ipython3",
   "version": "3.12.7"
  }
 },
 "nbformat": 4,
 "nbformat_minor": 2
}
